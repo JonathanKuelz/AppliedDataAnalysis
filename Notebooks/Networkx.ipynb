{
 "cells": [
  {
   "cell_type": "code",
   "execution_count": 10,
   "metadata": {},
   "outputs": [],
   "source": [
    "import networkx as nx\n",
    "import numpy as np\n",
    "import pandas as pd\n",
    "import matplotlib.pyplot as plt\n",
    "# from community import community_louvain\n",
    "# from networkx.algorithms.community.centrality import girvan_newman\n",
    "%matplotlib inline"
   ]
  },
  {
   "cell_type": "markdown",
   "metadata": {},
   "source": [
    "### Getting started with Networkx"
   ]
  },
  {
   "cell_type": "code",
   "execution_count": 19,
   "metadata": {},
   "outputs": [],
   "source": [
    "# Build a graph\n",
    "G = nx.Graph()\n",
    "G.add_node(1)\n",
    "G.add_nodes_from(range(20))\n",
    "G.add_edges_from(zip(np.random.randint(0, 20, 30), np.random.randint(0, 20, 30)))"
   ]
  },
  {
   "cell_type": "markdown",
   "metadata": {},
   "source": [
    "#### Basic Graph properties"
   ]
  },
  {
   "cell_type": "code",
   "execution_count": 49,
   "metadata": {},
   "outputs": [
    {
     "name": "stdout",
     "output_type": "stream",
     "text": [
      "The graph is not connected\n",
      "There are 2 connected components\n"
     ]
    }
   ],
   "source": [
    "nodes = G.nodes()\n",
    "degrees = [G.degree(node) for node in nodes]\n",
    "try:\n",
    "    nx.average_shortest_path_length(G)\n",
    "    nx.diameter(G)\n",
    "except nx.NetworkXError:\n",
    "    assert not nx.is_connected(G), \"This came unexpected\"\n",
    "    print(\"The graph is not connected\")\n",
    "    print(\"There are {} connected components\".format(len(list(nx.connected_components(G)))))\n",
    "nx.density(G)  # nr(edges) / nr(edges_for_complete_graph)\n",
    "nx.transitivity(G)  # Global clustering coefficient\n",
    "\n",
    "G.nodes[5]['attribute'] = 'I have an attribute'\n",
    "\n",
    "# Measurements for the importance of a node\n",
    "degrees;\n",
    "katz = nx.katz_centrality(G)\n",
    "betweenness = nx.betweenness_centrality(G)"
   ]
  },
  {
   "cell_type": "markdown",
   "metadata": {},
   "source": [
    "### Group Detection"
   ]
  },
  {
   "cell_type": "markdown",
   "metadata": {},
   "source": [
    "**Girvan Newman:** Edges possessing high betweeness centrality separate communities. Let's apply this on our toy sample graph (G) to get a better understanding of the idea.  \n",
    "The algorithm starts with the entire graph and then it iteratively removes the edge with the highest betweeness.\n",
    "\n",
    "**The Louvain Method:** It proceeds the other way around: initially every node is considered as a community. The communities are traversed, and for each community it is tested whether by joining it to a neighboring community, we can obtain a better clustering."
   ]
  },
  {
   "cell_type": "code",
   "execution_count": 47,
   "metadata": {},
   "outputs": [
    {
     "name": "stdout",
     "output_type": "stream",
     "text": [
      "Iteration 1\n",
      "([1, 2, 4, 10, 11, 16, 18], [0, 3, 5, 7, 8, 9, 12, 13, 14, 15, 17, 19], [6])\n",
      "Iteration 2\n",
      "([1, 2, 4, 10, 11, 16, 18], [0, 3, 5, 8, 12, 13, 14, 19], [6], [7, 9, 15, 17])\n",
      "Iteration 3\n",
      "([1, 2, 10, 16], [0, 3, 5, 8, 12, 13, 14, 19], [4, 11, 18], [6], [7, 9, 15, 17])\n",
      "Iteration 4\n",
      "([1, 2, 10, 16], [0, 3, 5, 8, 12, 19], [4, 11, 18], [6], [7, 9, 15, 17], [13, 14])\n"
     ]
    }
   ],
   "source": [
    "from networkx.algorithms.community.centrality import girvan_newman\n",
    "import itertools\n",
    "comp = girvan_newman(G)  # Returns an iterator over sets of tuples. (1 iteration = whole graph, 1 set = 1 community)\n",
    "for it, communities in enumerate(itertools.islice(comp, 4)):  # islice just makes sure we only do 4 iterations\n",
    "    print('Iteration', it+1)\n",
    "    print(tuple(sorted(c) for c in communities)) "
   ]
  },
  {
   "cell_type": "code",
   "execution_count": 55,
   "metadata": {},
   "outputs": [],
   "source": [
    "from community import community_louvain\n",
    "partition = community_louvain.best_partition(G)\n",
    "# add it as an attribute to the nodes\n",
    "for n in G.nodes:\n",
    "    G.nodes[n][\"louvain\"] = partition[n]\n",
    "    \n",
    "# plot it out\n",
    "pos = nx.spring_layout(G,k=0.2)\n",
    "ec = nx.draw_networkx_edges(G, pos, alpha=0.2)\n",
    "nc = nx.draw_networkx_nodes(G, pos, nodelist=G.nodes(), node_color=[G.nodes[n][\"louvain\"] for n in G.nodes], node_size=100, cmap=plt.cm.jet)\n",
    "plt.axis('off')\n",
    "# plt.show()\n",
    "plt.close();"
   ]
  },
  {
   "cell_type": "markdown",
   "metadata": {},
   "source": [
    "### Visualisation"
   ]
  },
  {
   "cell_type": "markdown",
   "metadata": {},
   "source": [
    "[All visualisations](https://networkx.github.io/documentation/stable/reference/drawing.html#module-networkx.drawing.layout)"
   ]
  },
  {
   "cell_type": "code",
   "execution_count": 31,
   "metadata": {},
   "outputs": [
    {
     "data": {
      "image/png": "[encoded data removed]",
      "text/plain": [
       "<Figure size 432x288 with 1 Axes>"
      ]
     },
     "metadata": {},
     "output_type": "display_data"
    }
   ],
   "source": [
    "# nx.draw_spring(G)\n",
    "# Helper function for visualizing the graph\n",
    "def visualize_graph(G, with_labels=True, k=None, alpha=1.0, node_shape='o'):\n",
    "    #nx.draw_spring(G, with_labels=with_labels, alpha = alpha)\n",
    "    pos = nx.spring_layout(G, k=k)\n",
    "    if with_labels:\n",
    "        lab = nx.draw_networkx_labels(G, pos, labels=dict([(n, n) for n in G.nodes()]))\n",
    "    ec = nx.draw_networkx_edges(G, pos, alpha=alpha)\n",
    "    nc = nx.draw_networkx_nodes(G, pos, nodelist=G.nodes(), node_color='g', node_shape=node_shape)\n",
    "    plt.axis('off')\n",
    "visualize_graph(G, False)"
   ]
  },
  {
   "cell_type": "code",
   "execution_count": null,
   "metadata": {},
   "outputs": [],
   "source": []
  }
 ],
 "metadata": {
  "kernelspec": {
   "display_name": "Python 3",
   "language": "python",
   "name": "python3"
  },
  "language_info": {
   "codemirror_mode": {
    "name": "ipython",
    "version": 3
   },
   "file_extension": ".py",
   "mimetype": "text/x-python",
   "name": "python",
   "nbconvert_exporter": "python",
   "pygments_lexer": "ipython3",
   "version": "3.8.5"
  }
 },
 "nbformat": 4,
 "nbformat_minor": 4
}
