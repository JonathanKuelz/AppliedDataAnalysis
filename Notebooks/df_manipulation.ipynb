{
 "cells": [
  {
   "cell_type": "code",
   "execution_count": 10,
   "metadata": {},
   "outputs": [],
   "source": [
    "import numpy as np\n",
    "import pandas as pd"
   ]
  },
  {
   "cell_type": "code",
   "execution_count": 11,
   "metadata": {},
   "outputs": [
    {
     "data": {
      "text/html": [
       "<div>\n",
       "<style scoped>\n",
       "    .dataframe tbody tr th:only-of-type {\n",
       "        vertical-align: middle;\n",
       "    }\n",
       "\n",
       "    .dataframe tbody tr th {\n",
       "        vertical-align: top;\n",
       "    }\n",
       "\n",
       "    .dataframe thead th {\n",
       "        text-align: right;\n",
       "    }\n",
       "</style>\n",
       "<table border=\"1\" class=\"dataframe\">\n",
       "  <thead>\n",
       "    <tr style=\"text-align: right;\">\n",
       "      <th></th>\n",
       "      <th>FloatNumbers</th>\n",
       "      <th>Integers</th>\n",
       "      <th>SomeStrings</th>\n",
       "      <th>Time</th>\n",
       "    </tr>\n",
       "  </thead>\n",
       "  <tbody>\n",
       "    <tr>\n",
       "      <th>0</th>\n",
       "      <td>1963.969532</td>\n",
       "      <td>843904</td>\n",
       "      <td>gbrsDbZjjn</td>\n",
       "      <td>2005-01-11</td>\n",
       "    </tr>\n",
       "    <tr>\n",
       "      <th>1</th>\n",
       "      <td>52607.513266</td>\n",
       "      <td>941076</td>\n",
       "      <td>XdXlQxlEbi</td>\n",
       "      <td>1994-12-10</td>\n",
       "    </tr>\n",
       "    <tr>\n",
       "      <th>2</th>\n",
       "      <td>88004.983548</td>\n",
       "      <td>649651</td>\n",
       "      <td>YeBLjocGjg</td>\n",
       "      <td>2013-05-28</td>\n",
       "    </tr>\n",
       "  </tbody>\n",
       "</table>\n",
       "</div>"
      ],
      "text/plain": [
       "   FloatNumbers  Integers SomeStrings       Time\n",
       "0   1963.969532    843904  gbrsDbZjjn 2005-01-11\n",
       "1  52607.513266    941076  XdXlQxlEbi 1994-12-10\n",
       "2  88004.983548    649651  YeBLjocGjg 2013-05-28"
      ]
     },
     "execution_count": 11,
     "metadata": {},
     "output_type": "execute_result"
    }
   ],
   "source": [
    "df = pd.read_pickle('../Data/SampleData.pkl')\n",
    "df.head(3)"
   ]
  },
  {
   "cell_type": "markdown",
   "metadata": {},
   "source": [
    "#### Sample"
   ]
  },
  {
   "cell_type": "code",
   "execution_count": 12,
   "metadata": {},
   "outputs": [
    {
     "name": "stdout",
     "output_type": "stream",
     "text": [
      "10000 5 2000\n"
     ]
    }
   ],
   "source": [
    "s1 = df.sample(n=5)\n",
    "s2 = df.sample(frac=0.2)\n",
    "print(len(df), len(s1), len(s2))"
   ]
  },
  {
   "cell_type": "markdown",
   "metadata": {},
   "source": [
    "#### Normalize"
   ]
  },
  {
   "cell_type": "code",
   "execution_count": 13,
   "metadata": {},
   "outputs": [
    {
     "data": {
      "text/html": [
       "<div>\n",
       "<style scoped>\n",
       "    .dataframe tbody tr th:only-of-type {\n",
       "        vertical-align: middle;\n",
       "    }\n",
       "\n",
       "    .dataframe tbody tr th {\n",
       "        vertical-align: top;\n",
       "    }\n",
       "\n",
       "    .dataframe thead th {\n",
       "        text-align: right;\n",
       "    }\n",
       "</style>\n",
       "<table border=\"1\" class=\"dataframe\">\n",
       "  <thead>\n",
       "    <tr style=\"text-align: right;\">\n",
       "      <th></th>\n",
       "      <th>count</th>\n",
       "      <th>mean</th>\n",
       "      <th>std</th>\n",
       "      <th>min</th>\n",
       "      <th>25%</th>\n",
       "      <th>50%</th>\n",
       "      <th>75%</th>\n",
       "      <th>max</th>\n",
       "    </tr>\n",
       "  </thead>\n",
       "  <tbody>\n",
       "    <tr>\n",
       "      <th>FloatNumbers</th>\n",
       "      <td>10000.0</td>\n",
       "      <td>-7.318590e-17</td>\n",
       "      <td>1.0</td>\n",
       "      <td>-1.127249</td>\n",
       "      <td>-0.820711</td>\n",
       "      <td>-0.283182</td>\n",
       "      <td>0.560088</td>\n",
       "      <td>3.402614</td>\n",
       "    </tr>\n",
       "    <tr>\n",
       "      <th>Integers</th>\n",
       "      <td>10000.0</td>\n",
       "      <td>1.563194e-17</td>\n",
       "      <td>1.0</td>\n",
       "      <td>-1.708011</td>\n",
       "      <td>-0.879742</td>\n",
       "      <td>-0.000588</td>\n",
       "      <td>0.867762</td>\n",
       "      <td>1.725758</td>\n",
       "    </tr>\n",
       "  </tbody>\n",
       "</table>\n",
       "</div>"
      ],
      "text/plain": [
       "                count          mean  std       min       25%       50%  \\\n",
       "FloatNumbers  10000.0 -7.318590e-17  1.0 -1.127249 -0.820711 -0.283182   \n",
       "Integers      10000.0  1.563194e-17  1.0 -1.708011 -0.879742 -0.000588   \n",
       "\n",
       "                   75%       max  \n",
       "FloatNumbers  0.560088  3.402614  \n",
       "Integers      0.867762  1.725758  "
      ]
     },
     "execution_count": 13,
     "metadata": {},
     "output_type": "execute_result"
    }
   ],
   "source": [
    "def normalize_df(generic_df, verbose=False):\n",
    "    df = generic_df.copy()\n",
    "    u = generic_df.mean(numeric_only=True)\n",
    "    var = generic_df.std(numeric_only=True)\n",
    "    numerics = u.index.values\n",
    "    for col in generic_df:\n",
    "        if col not in numerics:\n",
    "            continue\n",
    "        df[col] = (generic_df[col] - u[col]) / var[col]\n",
    "    if verbose:\n",
    "        return df, [u, var]\n",
    "    return df\n",
    "\n",
    "# For numeric-only-df: df_norm = (df - df.mean()) / df.std()\n",
    "\n",
    "df_norm = normalize_df(df)\n",
    "df_norm.describe().transpose()"
   ]
  },
  {
   "cell_type": "markdown",
   "metadata": {},
   "source": [
    "#### Grouping"
   ]
  },
  {
   "cell_type": "code",
   "execution_count": 18,
   "metadata": {},
   "outputs": [
    {
     "data": {
      "text/html": [
       "<div>\n",
       "<style scoped>\n",
       "    .dataframe tbody tr th:only-of-type {\n",
       "        vertical-align: middle;\n",
       "    }\n",
       "\n",
       "    .dataframe tbody tr th {\n",
       "        vertical-align: top;\n",
       "    }\n",
       "\n",
       "    .dataframe thead th {\n",
       "        text-align: right;\n",
       "    }\n",
       "</style>\n",
       "<table border=\"1\" class=\"dataframe\">\n",
       "  <thead>\n",
       "    <tr style=\"text-align: right;\">\n",
       "      <th></th>\n",
       "      <th>FloatNumbers</th>\n",
       "      <th>Integers</th>\n",
       "      <th>SomeStrings</th>\n",
       "      <th>Time</th>\n",
       "      <th>label1</th>\n",
       "      <th>label2</th>\n",
       "    </tr>\n",
       "  </thead>\n",
       "  <tbody>\n",
       "    <tr>\n",
       "      <th>0</th>\n",
       "      <td>1963.969532</td>\n",
       "      <td>843904</td>\n",
       "      <td>gbrsDbZjjn</td>\n",
       "      <td>2005-01-11</td>\n",
       "      <td>1</td>\n",
       "      <td>1</td>\n",
       "    </tr>\n",
       "    <tr>\n",
       "      <th>1</th>\n",
       "      <td>52607.513266</td>\n",
       "      <td>941076</td>\n",
       "      <td>XdXlQxlEbi</td>\n",
       "      <td>1994-12-10</td>\n",
       "      <td>1</td>\n",
       "      <td>0</td>\n",
       "    </tr>\n",
       "    <tr>\n",
       "      <th>2</th>\n",
       "      <td>88004.983548</td>\n",
       "      <td>649651</td>\n",
       "      <td>YeBLjocGjg</td>\n",
       "      <td>2013-05-28</td>\n",
       "      <td>1</td>\n",
       "      <td>2</td>\n",
       "    </tr>\n",
       "  </tbody>\n",
       "</table>\n",
       "</div>"
      ],
      "text/plain": [
       "   FloatNumbers  Integers SomeStrings       Time  label1  label2\n",
       "0   1963.969532    843904  gbrsDbZjjn 2005-01-11       1       1\n",
       "1  52607.513266    941076  XdXlQxlEbi 1994-12-10       1       0\n",
       "2  88004.983548    649651  YeBLjocGjg 2013-05-28       1       2"
      ]
     },
     "execution_count": 18,
     "metadata": {},
     "output_type": "execute_result"
    }
   ],
   "source": [
    "df['label1'] = np.random.randint(0, 2, len(df))\n",
    "df['label2'] = np.random.randint(0, 3, len(df))\n",
    "df.head(3)"
   ]
  },
  {
   "cell_type": "code",
   "execution_count": 22,
   "metadata": {},
   "outputs": [
    {
     "data": {
      "text/html": [
       "<div>\n",
       "<style scoped>\n",
       "    .dataframe tbody tr th:only-of-type {\n",
       "        vertical-align: middle;\n",
       "    }\n",
       "\n",
       "    .dataframe tbody tr th {\n",
       "        vertical-align: top;\n",
       "    }\n",
       "\n",
       "    .dataframe thead th {\n",
       "        text-align: right;\n",
       "    }\n",
       "</style>\n",
       "<table border=\"1\" class=\"dataframe\">\n",
       "  <thead>\n",
       "    <tr style=\"text-align: right;\">\n",
       "      <th></th>\n",
       "      <th>label1</th>\n",
       "      <th>label2</th>\n",
       "      <th>SomeStrings</th>\n",
       "    </tr>\n",
       "  </thead>\n",
       "  <tbody>\n",
       "    <tr>\n",
       "      <th>0</th>\n",
       "      <td>0</td>\n",
       "      <td>0</td>\n",
       "      <td>[DQbhnbjhRl, PBJMYZKvtd, MTsgIWEsaQ, tybkbFFjV...</td>\n",
       "    </tr>\n",
       "    <tr>\n",
       "      <th>1</th>\n",
       "      <td>0</td>\n",
       "      <td>1</td>\n",
       "      <td>[XHLkMESXGQ, lFWGznPyyJ, MvQOxltuZG, pMTLfkpjB...</td>\n",
       "    </tr>\n",
       "    <tr>\n",
       "      <th>2</th>\n",
       "      <td>0</td>\n",
       "      <td>2</td>\n",
       "      <td>[IRlhYndcRj, kSKyHicUlr, GsxrHGCPCp, VEQkCKjRL...</td>\n",
       "    </tr>\n",
       "    <tr>\n",
       "      <th>3</th>\n",
       "      <td>1</td>\n",
       "      <td>0</td>\n",
       "      <td>[XdXlQxlEbi, jQJlGwdJSi, YsDhMrkgMG, ZlTwMORNr...</td>\n",
       "    </tr>\n",
       "    <tr>\n",
       "      <th>4</th>\n",
       "      <td>1</td>\n",
       "      <td>1</td>\n",
       "      <td>[gbrsDbZjjn, epTjgzIUwe, gxzvvkpSSZ, rsBJxXCFd...</td>\n",
       "    </tr>\n",
       "  </tbody>\n",
       "</table>\n",
       "</div>"
      ],
      "text/plain": [
       "   label1  label2                                        SomeStrings\n",
       "0       0       0  [DQbhnbjhRl, PBJMYZKvtd, MTsgIWEsaQ, tybkbFFjV...\n",
       "1       0       1  [XHLkMESXGQ, lFWGznPyyJ, MvQOxltuZG, pMTLfkpjB...\n",
       "2       0       2  [IRlhYndcRj, kSKyHicUlr, GsxrHGCPCp, VEQkCKjRL...\n",
       "3       1       0  [XdXlQxlEbi, jQJlGwdJSi, YsDhMrkgMG, ZlTwMORNr...\n",
       "4       1       1  [gbrsDbZjjn, epTjgzIUwe, gxzvvkpSSZ, rsBJxXCFd..."
      ]
     },
     "execution_count": 22,
     "metadata": {},
     "output_type": "execute_result"
    }
   ],
   "source": [
    "strings_per_group = df.groupby(['label1', 'label2']).SomeStrings.apply(list).reset_index()  # Reset to remove multi-index\n",
    "strings_per_group.head()"
   ]
  },
  {
   "cell_type": "code",
   "execution_count": 28,
   "metadata": {},
   "outputs": [
    {
     "data": {
      "text/html": [
       "<div>\n",
       "<style scoped>\n",
       "    .dataframe tbody tr th:only-of-type {\n",
       "        vertical-align: middle;\n",
       "    }\n",
       "\n",
       "    .dataframe tbody tr th {\n",
       "        vertical-align: top;\n",
       "    }\n",
       "\n",
       "    .dataframe thead th {\n",
       "        text-align: right;\n",
       "    }\n",
       "</style>\n",
       "<table border=\"1\" class=\"dataframe\">\n",
       "  <thead>\n",
       "    <tr style=\"text-align: right;\">\n",
       "      <th></th>\n",
       "      <th>label1</th>\n",
       "      <th>label2</th>\n",
       "      <th>FloatNumbers</th>\n",
       "    </tr>\n",
       "  </thead>\n",
       "  <tbody>\n",
       "    <tr>\n",
       "      <th>0</th>\n",
       "      <td>0</td>\n",
       "      <td>0</td>\n",
       "      <td>245170.305554</td>\n",
       "    </tr>\n",
       "    <tr>\n",
       "      <th>1</th>\n",
       "      <td>0</td>\n",
       "      <td>1</td>\n",
       "      <td>252153.205493</td>\n",
       "    </tr>\n",
       "    <tr>\n",
       "      <th>2</th>\n",
       "      <td>0</td>\n",
       "      <td>2</td>\n",
       "      <td>250518.478167</td>\n",
       "    </tr>\n",
       "    <tr>\n",
       "      <th>3</th>\n",
       "      <td>1</td>\n",
       "      <td>0</td>\n",
       "      <td>249006.700085</td>\n",
       "    </tr>\n",
       "    <tr>\n",
       "      <th>4</th>\n",
       "      <td>1</td>\n",
       "      <td>1</td>\n",
       "      <td>246741.388831</td>\n",
       "    </tr>\n",
       "  </tbody>\n",
       "</table>\n",
       "</div>"
      ],
      "text/plain": [
       "   label1  label2   FloatNumbers\n",
       "0       0       0  245170.305554\n",
       "1       0       1  252153.205493\n",
       "2       0       2  250518.478167\n",
       "3       1       0  249006.700085\n",
       "4       1       1  246741.388831"
      ]
     },
     "execution_count": 28,
     "metadata": {},
     "output_type": "execute_result"
    }
   ],
   "source": [
    "average_per_label = df.groupby(['label1', 'label2']).FloatNumbers.mean().reset_index()\n",
    "average_per_label.head()"
   ]
  },
  {
   "cell_type": "code",
   "execution_count": null,
   "metadata": {},
   "outputs": [],
   "source": []
  }
 ],
 "metadata": {
  "kernelspec": {
   "display_name": "Python 3",
   "language": "python",
   "name": "python3"
  },
  "language_info": {
   "codemirror_mode": {
    "name": "ipython",
    "version": 3
   },
   "file_extension": ".py",
   "mimetype": "text/x-python",
   "name": "python",
   "nbconvert_exporter": "python",
   "pygments_lexer": "ipython3",
   "version": "3.8.5"
  }
 },
 "nbformat": 4,
 "nbformat_minor": 4
}
