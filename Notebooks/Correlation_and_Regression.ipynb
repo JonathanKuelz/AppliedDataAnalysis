{
 "cells": [
  {
   "cell_type": "code",
   "execution_count": 2,
   "metadata": {},
   "outputs": [],
   "source": [
    "import pandas as pd\n",
    "import pandas as pd\n",
    "import numpy as np\n",
    "import matplotlib.pyplot as plt\n",
    "%matplotlib inline\n",
    "import seaborn as sns\n",
    "import math\n",
    "\n",
    "#load the statistical libraries\n",
    "from statsmodels.stats import diagnostic\n",
    "from scipy import stats"
   ]
  },
  {
   "cell_type": "code",
   "execution_count": 3,
   "metadata": {},
   "outputs": [
    {
     "data": {
      "text/html": [
       "<div>\n",
       "<style scoped>\n",
       "    .dataframe tbody tr th:only-of-type {\n",
       "        vertical-align: middle;\n",
       "    }\n",
       "\n",
       "    .dataframe tbody tr th {\n",
       "        vertical-align: top;\n",
       "    }\n",
       "\n",
       "    .dataframe thead th {\n",
       "        text-align: right;\n",
       "    }\n",
       "</style>\n",
       "<table border=\"1\" class=\"dataframe\">\n",
       "  <thead>\n",
       "    <tr style=\"text-align: right;\">\n",
       "      <th></th>\n",
       "      <th>CensusId</th>\n",
       "      <th>State</th>\n",
       "      <th>County</th>\n",
       "      <th>TotalPop</th>\n",
       "      <th>Men</th>\n",
       "      <th>Women</th>\n",
       "      <th>Hispanic</th>\n",
       "      <th>White</th>\n",
       "      <th>Black</th>\n",
       "      <th>Native</th>\n",
       "      <th>...</th>\n",
       "      <th>OtherTransp</th>\n",
       "      <th>WorkAtHome</th>\n",
       "      <th>MeanCommute</th>\n",
       "      <th>Employed</th>\n",
       "      <th>PrivateWork</th>\n",
       "      <th>PublicWork</th>\n",
       "      <th>SelfEmployed</th>\n",
       "      <th>FamilyWork</th>\n",
       "      <th>Unemployment</th>\n",
       "      <th>WhiteMinority</th>\n",
       "    </tr>\n",
       "  </thead>\n",
       "  <tbody>\n",
       "    <tr>\n",
       "      <th>1292</th>\n",
       "      <td>26123</td>\n",
       "      <td>Michigan</td>\n",
       "      <td>Newaygo</td>\n",
       "      <td>48029</td>\n",
       "      <td>24156</td>\n",
       "      <td>23873</td>\n",
       "      <td>5.7</td>\n",
       "      <td>90.6</td>\n",
       "      <td>1.4</td>\n",
       "      <td>0.6</td>\n",
       "      <td>...</td>\n",
       "      <td>2.1</td>\n",
       "      <td>3.4</td>\n",
       "      <td>29.2</td>\n",
       "      <td>18619</td>\n",
       "      <td>81.7</td>\n",
       "      <td>11.3</td>\n",
       "      <td>6.6</td>\n",
       "      <td>0.3</td>\n",
       "      <td>10.1</td>\n",
       "      <td>0</td>\n",
       "    </tr>\n",
       "    <tr>\n",
       "      <th>1007</th>\n",
       "      <td>21029</td>\n",
       "      <td>Kentucky</td>\n",
       "      <td>Bullitt</td>\n",
       "      <td>76961</td>\n",
       "      <td>38049</td>\n",
       "      <td>38912</td>\n",
       "      <td>1.6</td>\n",
       "      <td>95.3</td>\n",
       "      <td>0.5</td>\n",
       "      <td>0.2</td>\n",
       "      <td>...</td>\n",
       "      <td>0.7</td>\n",
       "      <td>2.6</td>\n",
       "      <td>27.5</td>\n",
       "      <td>37079</td>\n",
       "      <td>84.6</td>\n",
       "      <td>10.9</td>\n",
       "      <td>4.4</td>\n",
       "      <td>0.1</td>\n",
       "      <td>7.6</td>\n",
       "      <td>0</td>\n",
       "    </tr>\n",
       "    <tr>\n",
       "      <th>912</th>\n",
       "      <td>20049</td>\n",
       "      <td>Kansas</td>\n",
       "      <td>Elk</td>\n",
       "      <td>2683</td>\n",
       "      <td>1339</td>\n",
       "      <td>1344</td>\n",
       "      <td>3.8</td>\n",
       "      <td>91.5</td>\n",
       "      <td>0.8</td>\n",
       "      <td>1.7</td>\n",
       "      <td>...</td>\n",
       "      <td>2.6</td>\n",
       "      <td>8.9</td>\n",
       "      <td>25.3</td>\n",
       "      <td>1121</td>\n",
       "      <td>59.2</td>\n",
       "      <td>26.6</td>\n",
       "      <td>13.6</td>\n",
       "      <td>0.5</td>\n",
       "      <td>5.3</td>\n",
       "      <td>0</td>\n",
       "    </tr>\n",
       "  </tbody>\n",
       "</table>\n",
       "<p>3 rows × 38 columns</p>\n",
       "</div>"
      ],
      "text/plain": [
       "      CensusId     State   County  TotalPop    Men  Women  Hispanic  White  \\\n",
       "1292     26123  Michigan  Newaygo     48029  24156  23873       5.7   90.6   \n",
       "1007     21029  Kentucky  Bullitt     76961  38049  38912       1.6   95.3   \n",
       "912      20049    Kansas      Elk      2683   1339   1344       3.8   91.5   \n",
       "\n",
       "      Black  Native  ...  OtherTransp  WorkAtHome  MeanCommute  Employed  \\\n",
       "1292    1.4     0.6  ...          2.1         3.4         29.2     18619   \n",
       "1007    0.5     0.2  ...          0.7         2.6         27.5     37079   \n",
       "912     0.8     1.7  ...          2.6         8.9         25.3      1121   \n",
       "\n",
       "      PrivateWork  PublicWork  SelfEmployed  FamilyWork  Unemployment  \\\n",
       "1292         81.7        11.3           6.6         0.3          10.1   \n",
       "1007         84.6        10.9           4.4         0.1           7.6   \n",
       "912          59.2        26.6          13.6         0.5           5.3   \n",
       "\n",
       "      WhiteMinority  \n",
       "1292              0  \n",
       "1007              0  \n",
       "912               0  \n",
       "\n",
       "[3 rows x 38 columns]"
      ]
     },
     "execution_count": 3,
     "metadata": {},
     "output_type": "execute_result"
    }
   ],
   "source": [
    "df = pd.read_csv('../Data/us_census_2015.csv')\n",
    "df['WhiteMinority'] = (df['White'] < 50).apply(int)\n",
    "df.sample(3)"
   ]
  },
  {
   "cell_type": "code",
   "execution_count": 4,
   "metadata": {},
   "outputs": [],
   "source": [
    "numeric_features = df.columns[3:-1]\n",
    "df_norm = df.copy()\n",
    "df_norm[numeric_features] = (df_norm[numeric_features] - df_norm[numeric_features].mean()) / df_norm[numeric_features].std()\n",
    "races = ['Hispanic', 'White', 'Black', 'Native', 'Asian', 'Pacific']"
   ]
  },
  {
   "cell_type": "markdown",
   "metadata": {},
   "source": [
    "## Correlation between two Variables"
   ]
  },
  {
   "cell_type": "markdown",
   "metadata": {},
   "source": [
    "The **pearson correlation** measures the strength(absolute value) and the direction(positive/negative) of the **linear** correlation between two normally distributed variables. The p-value returned by the scipy.stats method gives the probability that an uncorrelated system would give a pearson correlation of that amplitude or higher.  \n",
    "The **spearman's rank coefficient correlation** assesses how well a monotonic function could describe the relationship between two variables. It is less prune to outliers than the pearson correlation. P value gives the probability of an uncorrelated dataset giving at least the same spearman correlation than the underlying data.  \n",
    "A **T-Test** is a two-sided test for the null hypothesis that two distributions have equal mean."
   ]
  },
  {
   "cell_type": "code",
   "execution_count": 5,
   "metadata": {},
   "outputs": [
    {
     "name": "stdout",
     "output_type": "stream",
     "text": [
      "The pearson coefficient is 0.353 with a p-value of 0.0000.\n",
      "The spearman coefficient is 0.337 with a p-value of 0.0000.\n",
      "The p-value for the ttest is 0.6848.\n"
     ]
    }
   ],
   "source": [
    "corr_p, p_p = stats.pearsonr(df.Black, df.Unemployment)\n",
    "corr_s, p_s = stats.spearmanr(df.Black, df.Unemployment)\n",
    "t, p_t = stats.ttest_ind(df.Men, df.Women)\n",
    "print(f\"The pearson coefficient is {corr_p:.3f} with a p-value of {p_p:.4f}.\")\n",
    "print(f\"The spearman coefficient is {corr_s:.3f} with a p-value of {p_s:.4f}.\")\n",
    "print(f\"The p-value for the ttest is {p_t:.4f}.\")"
   ]
  },
  {
   "cell_type": "markdown",
   "metadata": {},
   "source": [
    "## Does a variable come from a certain distribution?"
   ]
  },
  {
   "cell_type": "code",
   "execution_count": 6,
   "metadata": {},
   "outputs": [
    {
     "name": "stdout",
     "output_type": "stream",
     "text": [
      "The p values for the following null hypotheses are:\n",
      "Underlying distribution is normal: 0.0010\n",
      "Underlying distribution is exponential: 0.0010\n"
     ]
    }
   ],
   "source": [
    "_, p_n = diagnostic.kstest_normal(df.Hispanic, dist='norm')\n",
    "_, p_e = diagnostic.kstest_normal(df.Hispanic, dist='exp')\n",
    "print(f\"The p values for the following null hypotheses are:\\nUnderlying distribution is normal: {p_n:.4f}\\nUnderlying distribution is exponential: {p_e:.4f}\")"
   ]
  },
  {
   "cell_type": "markdown",
   "metadata": {},
   "source": [
    "## Observing Multiple Variables at the same time, Regression"
   ]
  },
  {
   "cell_type": "markdown",
   "metadata": {},
   "source": [
    "### Statsmodels Regression analysis with the formulas API\n",
    "- Equations are specified using patsy formula syntax. Important operators are:\n",
    "    1. `~` : Separates the left-hand side and right-hand side of a formula.\n",
    "    2. `+` : Creates a union of terms that are included in the model.\n",
    "    3. `:` : Interaction term.\n",
    "    3. `*` : `a * b` is short-hand for `a + b + a:b`, and is useful for the common case of wanting to include all interactions between a set of variables.\n",
    "    - `Categorical` variables can be included as C(Variable). \n",
    "- The results include:\n",
    "    1. `No. Observations` : Sample Size\n",
    "    2. `R-squared` : The fraction of explained variance.\n",
    "    3. For each predictor: coefficient, standard error of the coefficients, p-value, 95% confidence intervals  \n",
    "\n",
    "OLS: `Predicted Variable ~ Intercept + Sum(Coef*Predictor)`  \n",
    "LOG: `Predicted Variable ~ exp(Intercept + Sum(Coef*Predictor)`, $y_i = e^{b_0 + b_1 X_{i1} + ... + \\epsilon_i}$, if $b_0 \\approx 0$, then an increase of 1 in predictor $X_i$ leads to a realitve increase for $y_i$ of $e^{b_i}$"
   ]
  },
  {
   "cell_type": "code",
   "execution_count": 58,
   "metadata": {},
   "outputs": [
    {
     "name": "stdout",
     "output_type": "stream",
     "text": [
      "Optimization terminated successfully.\n",
      "         Current function value: 0.352991\n",
      "         Iterations 6\n",
      "                            OLS Regression Results                            \n",
      "==============================================================================\n",
      "Dep. Variable:           Unemployment   R-squared:                       0.163\n",
      "Model:                            OLS   Adj. R-squared:                  0.162\n",
      "Method:                 Least Squares   F-statistic:                     312.8\n",
      "Date:                Thu, 07 Jan 2021   Prob (F-statistic):          7.50e-125\n",
      "Time:                        11:12:47   Log-Likelihood:                -8822.7\n",
      "No. Observations:                3220   AIC:                         1.765e+04\n",
      "Df Residuals:                    3217   BIC:                         1.767e+04\n",
      "Df Model:                           2                                         \n",
      "Covariance Type:            nonrobust                                         \n",
      "================================================================================\n",
      "                   coef    std err          t      P>|t|      [0.025      0.975]\n",
      "--------------------------------------------------------------------------------\n",
      "Intercept        9.0840      0.172     52.871      0.000       8.747       9.421\n",
      "Black            0.0831      0.005     17.099      0.000       0.074       0.093\n",
      "SelfEmployed    -0.2155      0.018    -12.160      0.000      -0.250      -0.181\n",
      "==============================================================================\n",
      "Omnibus:                     1624.228   Durbin-Watson:                   1.201\n",
      "Prob(Omnibus):                  0.000   Jarque-Bera (JB):            14007.194\n",
      "Skew:                           2.232   Prob(JB):                         0.00\n",
      "Kurtosis:                      12.191   Cond. No.                         44.6\n",
      "==============================================================================\n",
      "\n",
      "Notes:\n",
      "[1] Standard Errors assume that the covariance matrix of the errors is correctly specified.\n"
     ]
    }
   ],
   "source": [
    "import statsmodels.api as sm\n",
    "import statsmodels.formula.api as smf\n",
    "# 1. Declare a Model\n",
    "mod = smf.logit(formula='WhiteMinority ~ Black + SelfEmployed', data=df)  # Logistic Regression\n",
    "mod = smf.ols(formula='Unemployment ~ Black + SelfEmployed', data=df)  # Ordinary least squares\n",
    "# 2. Fit\n",
    "res = mod.fit()\n",
    "print(res.summary())"
   ]
  },
  {
   "cell_type": "markdown",
   "metadata": {},
   "source": [
    "### Statsmodels Regression analysis with the basic API"
   ]
  },
  {
   "cell_type": "code",
   "execution_count": 19,
   "metadata": {},
   "outputs": [
    {
     "name": "stdout",
     "output_type": "stream",
     "text": [
      "                            OLS Regression Results                            \n",
      "==============================================================================\n",
      "Dep. Variable:           Unemployment   R-squared:                       0.163\n",
      "Model:                            OLS   Adj. R-squared:                  0.162\n",
      "Method:                 Least Squares   F-statistic:                     312.8\n",
      "Date:                Thu, 07 Jan 2021   Prob (F-statistic):          7.50e-125\n",
      "Time:                        10:23:03   Log-Likelihood:                -8822.7\n",
      "No. Observations:                3220   AIC:                         1.765e+04\n",
      "Df Residuals:                    3217   BIC:                         1.767e+04\n",
      "Df Model:                           2                                         \n",
      "Covariance Type:            nonrobust                                         \n",
      "================================================================================\n",
      "                   coef    std err          t      P>|t|      [0.025      0.975]\n",
      "--------------------------------------------------------------------------------\n",
      "const            9.0840      0.172     52.871      0.000       8.747       9.421\n",
      "Black            0.0831      0.005     17.099      0.000       0.074       0.093\n",
      "SelfEmployed    -0.2155      0.018    -12.160      0.000      -0.250      -0.181\n",
      "==============================================================================\n",
      "Omnibus:                     1624.228   Durbin-Watson:                   1.201\n",
      "Prob(Omnibus):                  0.000   Jarque-Bera (JB):            14007.194\n",
      "Skew:                           2.232   Prob(JB):                         0.00\n",
      "Kurtosis:                      12.191   Cond. No.                         44.6\n",
      "==============================================================================\n",
      "\n",
      "Notes:\n",
      "[1] Standard Errors assume that the covariance matrix of the errors is correctly specified.\n"
     ]
    }
   ],
   "source": [
    "X = df[['Black', 'SelfEmployed']]\n",
    "X = sm.add_constant(X) # Or else, there will be no intercept/constant\n",
    "y = df.Unemployment\n",
    "mod = sm.OLS(y, X)\n",
    "res = mod.fit()\n",
    "print(res.summary())"
   ]
  },
  {
   "cell_type": "markdown",
   "metadata": {},
   "source": [
    "### Scikit-learn Regression analysis"
   ]
  },
  {
   "cell_type": "code",
   "execution_count": 23,
   "metadata": {},
   "outputs": [
    {
     "name": "stdout",
     "output_type": "stream",
     "text": [
      "Coefficients: 0.0831 and -0.2155. Intercept: 9.0840\n"
     ]
    }
   ],
   "source": [
    "from sklearn.linear_model import LinearRegression, LogisticRegression, Ridge\n",
    "X = df[['Black', 'SelfEmployed']]\n",
    "y = df.Unemployment\n",
    "lin_reg = LinearRegression()\n",
    "lin_reg.fit(X, y)\n",
    "print(\"Coefficients: {:.4f} and {:.4f}. Intercept: {:.4f}\".format(*lin_reg.coef_, lin_reg.intercept_))"
   ]
  },
  {
   "cell_type": "markdown",
   "metadata": {},
   "source": [
    "#### Cross Value Prediction, Scikit"
   ]
  },
  {
   "cell_type": "code",
   "execution_count": 50,
   "metadata": {},
   "outputs": [
    {
     "data": {
      "image/png": "[encoded data removed]",
      "text/plain": [
       "<Figure size 1008x576 with 2 Axes>"
      ]
     },
     "metadata": {
      "needs_background": "light"
     },
     "output_type": "display_data"
    }
   ],
   "source": [
    "from sklearn.model_selection import cross_val_predict\n",
    "lr = LinearRegression()\n",
    "ridge = Ridge(alpha=20)\n",
    "pred = lin_reg.predict(X)\n",
    "x_pred = cross_val_predict(lr, X, y, cv=3)\n",
    "r_pred = cross_val_predict(ridge, X, y, cv=5)\n",
    "\n",
    "fig, axs = plt.subplots(nrows=2, figsize=(14, 8), sharey=True)\n",
    "axs[0].scatter(y, pred, edgecolors=(0, 0, 0), label='Full prediction')\n",
    "axs[1].scatter(y, x_pred, edgecolors=(0, 0, 0), label='Cross prediction')\n",
    "# axs[2].scatter(y, r_pred, edgecolors=(0, 0, 0), label='Ridge Cross')\n",
    "for ax in axs:\n",
    "    ax.plot([min(y), max(y)], [min(y), max(y)], 'r--', lw=4, label='Perfect')\n",
    "    ax.set_xlabel('Original')\n",
    "    ax.set_ylabel('Predicted')\n",
    "    ax.legend()\n",
    "plt.show()"
   ]
  },
  {
   "cell_type": "markdown",
   "metadata": {},
   "source": [
    "### Evaluate the predictions with sklearn"
   ]
  },
  {
   "cell_type": "code",
   "execution_count": 51,
   "metadata": {},
   "outputs": [
    {
     "name": "stdout",
     "output_type": "stream",
     "text": [
      "MSE: 14.042389923368457\n"
     ]
    }
   ],
   "source": [
    "from sklearn.metrics import mean_squared_error, auc, roc_curve\n",
    "print(\"MSE: {}\".format(mean_squared_error(y, pred)))"
   ]
  },
  {
   "cell_type": "markdown",
   "metadata": {},
   "source": [
    "### Evaluate basic metrics for predictions"
   ]
  },
  {
   "cell_type": "code",
   "execution_count": 63,
   "metadata": {},
   "outputs": [],
   "source": [
    "X = df[['Black', 'SelfEmployed']]\n",
    "y = df.WhiteMinority\n",
    "logreg = LogisticRegression()\n",
    "pred = cross_val_predict(logreg, X, y)"
   ]
  },
  {
   "cell_type": "code",
   "execution_count": 68,
   "metadata": {},
   "outputs": [
    {
     "name": "stdout",
     "output_type": "stream",
     "text": [
      "The Accuracy is: 0.887\n",
      "The Precision is: 0.173\n",
      "The Recall is: 0.987\n",
      "The Specifity is: 0.294\n"
     ]
    }
   ],
   "source": [
    "def classification_terms(y, pred):\n",
    "    # True Positive, True Negative, False Pasitive, False Negative\n",
    "    y = np.asarray(y)\n",
    "    pred = np.asarray(pred)\n",
    "    assert len(y) == len(pred)\n",
    "    total = len(y)\n",
    "    TP = ((y==pred) * (pred==1)).sum()\n",
    "    TN = ((y==pred) * (pred==0)).sum()\n",
    "    FP = ((y!=pred) * (pred==1)).sum()\n",
    "    FN = ((y!=pred) * (pred==0)).sum()\n",
    "    assert TP+TN+FP+FN == len(y)\n",
    "    return TP, TN, FP, FN\n",
    "\n",
    "def classification_metrics(TP, TN, FP, FN, verbose=False):\n",
    "    accuracy = (TP+TN) / (TP+TN+FP+FN)  # What fraction of my prediction is truthfull?\n",
    "    precision = TP / (TP+FP) if TP+FP > 0 else np.nan  # What fraction of positive predictions is really positive?\n",
    "    recall = TP / (TP+FN) if TP+FN > 0 else np.nan  # What fraction of positive conditions do I find? (sensitivity)\n",
    "    negative_precision = TN / (TN+FN) if TN+FN > 0 else np.nan\n",
    "    specifity = TN / (TN+FP) if TN+FP > 0 else np.nan # What fraction of negative conditions do I find? == negative recall\n",
    "    f1 = 2 * (precision * recall) / (precision + recall) if precision + recall > 0 else np.nan # Harmonic mean of precision and recall\n",
    "    f1_negative = 2 * (negative_precision * specifity) / (negative_precision + specifity) if negative_precision + specifity > 0 else np.nan # Harmonic mean of precision and recall\n",
    "    if verbose:\n",
    "        return accuracy, precision, recall, negative_precision, specifity, f1, f1_negative\n",
    "    return accuracy, precision, recall, f1\n",
    "    \n",
    "metrics = classification_metrics(*classification_terms(y, pred))\n",
    "metric_names = ['Accuracy', 'Precision', 'Recall', 'Specifity']\n",
    "for name, metric in zip(metric_names, metrics):\n",
    "    print(\"The {} is: {:.3f}\".format(name, metric))"
   ]
  },
  {
   "cell_type": "markdown",
   "metadata": {},
   "source": [
    "## Match variables for comparison: Propensity Scores\n",
    "Propensity Score $e(x)=Pr(Z=1|\\textbf{x})$, the propability of \"receiving a certain treatment\", given the data that's known.  \n",
    "This leads to $Pr\\{\\textbf{x}|Z=1, e(\\textbf{x})\\} = Pr\\{\\textbf{x}|Z=0, e(\\textbf{x})\\}$, meaning a matched pair (equal/similar score) must not have the same features x, but treated and control groups will have similar distributions of x."
   ]
  },
  {
   "cell_type": "code",
   "execution_count": 72,
   "metadata": {},
   "outputs": [
    {
     "name": "stdout",
     "output_type": "stream",
     "text": [
      "Optimization terminated successfully.\n",
      "         Current function value: 0.203839\n",
      "         Iterations 11\n"
     ]
    }
   ],
   "source": [
    "# Calculate the propensity score of a binary outcome using logistic regression:\n",
    "import statsmodels.api as sm\n",
    "import statsmodels.formula.api as smf\n",
    "features = [f for f in numeric_features if f not in races]\n",
    "df_norm = df_norm.dropna()\n",
    "X = df_norm[features]\n",
    "X = sm.add_constant(X)  # This is necessary to include an intercept/constant which is done automatically in the formulat api\n",
    "y = df_norm.WhiteMinority\n",
    "logreg = sm.Logit(y, X).fit()\n",
    "# Formula way:\n",
    "# mod = smf.logit(formula='treat ~  age + educ + C(black) + C(hispan)  + C(married) + C(nodegree) + +re74 + re75', data=df).fit()\n",
    "\n",
    "propensity_scores = logreg.predict(X)"
   ]
  },
  {
   "cell_type": "markdown",
   "metadata": {},
   "source": [
    "Then, use any method desired to match similar propensity scores. For example the networkx library."
   ]
  },
  {
   "cell_type": "code",
   "execution_count": null,
   "metadata": {},
   "outputs": [],
   "source": [
    "import networkx as nx\n",
    "df_norm['propensity'] = propensity_scores\n",
    "G = nx.Graph()\n",
    "control = df_norm.loc[df.WhiteMinority == 0]\n",
    "test_group = df_norm.loc[df.WhiteMinority == 1]\n",
    "ebunch = [[c, t, 1 - abs(c.propensity - t.propensity)] for _, c in control.iterrows() for _, t in test_group.iterrows()]\n",
    "G.weighted_edges_from(ebunch)"
   ]
  },
  {
   "cell_type": "code",
   "execution_count": null,
   "metadata": {},
   "outputs": [],
   "source": [
    "ebunch"
   ]
  },
  {
   "cell_type": "code",
   "execution_count": null,
   "metadata": {},
   "outputs": [],
   "source": [
    "ll"
   ]
  }
 ],
 "metadata": {
  "kernelspec": {
   "display_name": "Python [conda env:ada] *",
   "language": "python",
   "name": "conda-env-ada-py"
  },
  "language_info": {
   "codemirror_mode": {
    "name": "ipython",
    "version": 3
   },
   "file_extension": ".py",
   "mimetype": "text/x-python",
   "name": "python",
   "nbconvert_exporter": "python",
   "pygments_lexer": "ipython3",
   "version": "3.8.5"
  }
 },
 "nbformat": 4,
 "nbformat_minor": 4
}
