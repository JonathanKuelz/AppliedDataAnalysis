{
 "cells": [
  {
   "cell_type": "code",
   "execution_count": 4,
   "metadata": {},
   "outputs": [],
   "source": [
    "import collections\n",
    "import itertools\n",
    "%config Completer.use_jedi = False  # Fixes failing autocompletion"
   ]
  },
  {
   "cell_type": "code",
   "execution_count": 2,
   "metadata": {},
   "outputs": [
    {
     "data": {
      "text/plain": [
       "['/home/jonathan/Documents/AppliedDataAnalysis/Notebooks',\n",
       " '/home/jonathan/anaconda3/envs/adaexam/lib/python38.zip',\n",
       " '/home/jonathan/anaconda3/envs/adaexam/lib/python3.8',\n",
       " '/home/jonathan/anaconda3/envs/adaexam/lib/python3.8/lib-dynload',\n",
       " '',\n",
       " '/home/jonathan/anaconda3/envs/adaexam/lib/python3.8/site-packages',\n",
       " '/home/jonathan/anaconda3/envs/adaexam/lib/python3.8/site-packages/IPython/extensions',\n",
       " '/home/jonathan/.ipython']"
      ]
     },
     "execution_count": 2,
     "metadata": {},
     "output_type": "execute_result"
    }
   ],
   "source": [
    "import sys\n",
    "sys.path  # Am I running the right path?"
   ]
  },
  {
   "cell_type": "code",
   "execution_count": 13,
   "metadata": {},
   "outputs": [
    {
     "name": "stdout",
     "output_type": "stream",
     "text": [
      "Most common items:  [(4477, 141), (2181, 138), (1003, 133), (4049, 132), (8961, 132)] \n",
      "Count single item:  96 \n",
      "Check:  141\n"
     ]
    }
   ],
   "source": [
    "import numpy as np\n",
    "lots_of_nrs = np.random.randint(0, 10000, int(1e6))\n",
    "c = collections.Counter(lots_of_nrs)\n",
    "print(\"Most common items: \", c.most_common(n=5), \"\\nCount single item: \", c.get(3), \"\\nCheck: \", c.get(c.most_common(n=1)[0][0]))"
   ]
  },
  {
   "cell_type": "code",
   "execution_count": null,
   "metadata": {},
   "outputs": [],
   "source": []
  }
 ],
 "metadata": {
  "kernelspec": {
   "display_name": "Python 3",
   "language": "python",
   "name": "python3"
  },
  "language_info": {
   "codemirror_mode": {
    "name": "ipython",
    "version": 3
   },
   "file_extension": ".py",
   "mimetype": "text/x-python",
   "name": "python",
   "nbconvert_exporter": "python",
   "pygments_lexer": "ipython3",
   "version": "3.8.5"
  }
 },
 "nbformat": 4,
 "nbformat_minor": 4
}
